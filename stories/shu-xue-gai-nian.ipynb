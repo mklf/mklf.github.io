{
 "cells": [
  {
   "cell_type": "markdown",
   "metadata": {},
   "source": [
    "### 定义:"
   ]
  },
  {
   "cell_type": "markdown",
   "metadata": {},
   "source": [
    "1. **关系**\n",
    "\n",
    "    $A$ 是非空集合，则 $R\\subset A\\times A$ 是 $A$ 上的关系，如果$(a,b) \\in R$, 可以表示为$a\\sim b$\n",
    "    \n",
    "    例: 偏序和全序"
   ]
  },
  {
   "cell_type": "code",
   "execution_count": null,
   "metadata": {
    "collapsed": true
   },
   "outputs": [],
   "source": []
  }
 ],
 "metadata": {
  "kernelspec": {
   "display_name": "Python 3",
   "language": "python",
   "name": "python3"
  },
  "language_info": {
   "codemirror_mode": {
    "name": "ipython",
    "version": 3
   },
   "file_extension": ".py",
   "mimetype": "text/x-python",
   "name": "python",
   "nbconvert_exporter": "python",
   "pygments_lexer": "ipython3",
   "version": "3.6.1"
  },
  "nikola": {
   "category": "",
   "date": "2017-10-07 17:55:10 UTC+08:00",
   "description": "",
   "link": "",
   "slug": "shu-xue-gai-nian",
   "tags": "",
   "title": "数学概念",
   "type": "text"
  }
 },
 "nbformat": 4,
 "nbformat_minor": 2
}
