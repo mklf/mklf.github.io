{
 "cells": [
  {
   "cell_type": "markdown",
   "metadata": {},
   "source": [
    "在{{% doc %}} 上篇博客 <chou-yang-fang-fa-1-sui-ji-shu-he-jian-dan-sui-ji-chou-yang>{{% /doc %}}的最后,我说到由于高斯分布的累积分布函数是不可积的，因此用Inverse Transform Method 不能对高斯分布进行抽样。"
   ]
  },
  {
   "cell_type": "code",
   "execution_count": null,
   "metadata": {
    "collapsed": true
   },
   "outputs": [],
   "source": []
  }
 ],
 "metadata": {
  "anaconda-cloud": {},
  "kernelspec": {
   "display_name": "Python [Root]",
   "language": "python",
   "name": "Python [Root]"
  },
  "language_info": {
   "codemirror_mode": {
    "name": "ipython",
    "version": 2
   },
   "file_extension": ".py",
   "mimetype": "text/x-python",
   "name": "python",
   "nbconvert_exporter": "python",
   "pygments_lexer": "ipython2",
   "version": "2.7.12"
  },
  "nikola": {
   "category": "",
   "date": "2016-10-03 11:39:10 UTC+08:00",
   "description": "",
   "link": "",
   "slug": "chou-yang-fang-fa-2-cong-gao-si-fen-bu-shuo-qi",
   "tags": "",
   "title": "抽样方法(2)--拒绝抽样和高斯分布",
   "type": "text"
  }
 },
 "nbformat": 4,
 "nbformat_minor": 0
}
