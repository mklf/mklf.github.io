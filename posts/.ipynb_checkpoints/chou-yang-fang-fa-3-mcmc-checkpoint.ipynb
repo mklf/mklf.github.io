{
 "cells": [
  {
   "cell_type": "markdown",
   "metadata": {},
   "source": [
    "在上篇博客的最后，我们说到由于效率低，[前面](../../categories/cat_sampling/)博客中介绍的方法在对高维分布进行抽样时都存在一些问题，因此我们需要一个高效可行的抽样方法。 这就引出了 MCMC，MCMC 是一系列算法的集合，包括 MH,Gibbs Sampling 和 HMC 等。它们都利用了 MCMC 这个框架来设计具体的算法实现。在介绍这些算法前，我们首先需要知道 MCMC 中的第一个 MC--马尔科夫链的性质。"
   ]
  },
  {
   "cell_type": "markdown",
   "metadata": {
    "collapsed": true
   },
   "source": [
    "想必对于计算机专业的人来说，几乎没人不知道[Page Rank](https://en.wikipedia.org/wiki/PageRank)(PR)算法。而这个算法背后的原理就是马尔科夫链。因此下面我们通过一个例子来看看PR的工作原理，同时也了解一下马尔科夫链的性质。\n",
    "#### 例1:\n",
    "有a,b,c,d 四个网页，其中：a 有到 a,b 的链接， b 有到 a,c 的链接，c 有到 a,b,c,d 的链接，d 有到 a,d 的链接。求 a,b,c,d 四个网页的权重。"
   ]
  },
  {
   "cell_type": "markdown",
   "metadata": {},
   "source": [
    "要求得四个网页的权重，PR 的做法是，先作出a,b,c,d 的链接关系，用矩阵L表示，$L_{ij}$ 表示j有到i的链接，上面的链接关系可以得到链接矩阵：\n",
    "\n",
    "$$\n",
    "    L  = \\begin{bmatrix}\n",
    "    1 & 1 & 1 & 1  \\\\\n",
    "    1 & 0 & 1 & 0  \\\\\n",
    "    0 & 1 & 1 & 0  \\\\\n",
    "    0 & 0 & 1 & 1  \n",
    "\\end{bmatrix}\n",
    "$$\n",
    "\n",
    "矩阵中第一列代表a的链接，第二列代表b的链接，以此类推。得到这个矩阵后，我们按列对这个矩阵进行归一化，表示对每个网页来说，它指向的所有链接重要性相同。归一化后得到：\n",
    "$$\n",
    "    A  = \\begin{bmatrix}\n",
    "    \\frac{1}{2} & \\frac{1}{2} & \\frac{1}{4} & \\frac{1}{2}  \\\\\n",
    "    \\frac{1}{2} & 0   & \\frac{1}{4} & 0  \\\\\n",
    "    0   & \\frac{1}{2} & \\frac{1}{4} & 0  \\\\\n",
    "    0   & 0   & \\frac{1}{4} & \\frac{1}{2}  \n",
    "\\end{bmatrix}\n",
    "$$\n",
    "A 称作转移矩阵，用一个随机向量$\\pi_0$来表示a,b,c,d四个网页的初始概率,在这个例子中我们设$\\pi_0 = [0.1,0.3,0.2,0.4]^T $,PR 通过不断迭代计算$\\pi_{n+1} = A\\cdot\\pi_n$,来得到新的$\\pi_{*}$,在某次迭代后，如果$\\pi_{t+1} =\\pi_{t}$，则算法收敛(实践中通常利用某个收敛准则，比如两次迭代的变化量来判断算法是否收敛)。我们可以用下面的 python 代码来展示这个过程"
   ]
  },
  {
   "cell_type": "code",
   "execution_count": 10,
   "metadata": {
    "ExecuteTime": {
     "end_time": "2016-10-24T10:00:40.598475",
     "start_time": "2016-10-24T10:00:40.593070"
    },
    "collapsed": false
   },
   "outputs": [
    {
     "name": "stdout",
     "output_type": "stream",
     "text": [
      "Populating the interactive namespace from numpy and matplotlib\n"
     ]
    },
    {
     "name": "stderr",
     "output_type": "stream",
     "text": [
      "/Users/lifang/.pyenv/versions/anaconda3-4.1.1/lib/python3.5/site-packages/IPython/core/magics/pylab.py:161: UserWarning: pylab import has clobbered these variables: ['pi']\n",
      "`%matplotlib` prevents importing * from pylab and numpy\n",
      "  \"\\n`%matplotlib` prevents importing * from pylab and numpy\"\n"
     ]
    }
   ],
   "source": [
    "%pylab inline"
   ]
  },
  {
   "cell_type": "code",
   "execution_count": 16,
   "metadata": {
    "ExecuteTime": {
     "end_time": "2016-10-24T10:12:13.268419",
     "start_time": "2016-10-24T10:12:13.251850"
    },
    "collapsed": false
   },
   "outputs": [
    {
     "name": "stdout",
     "output_type": "stream",
     "text": [
      "[ 0.475  0.125  0.175  0.225]\n",
      "[ 0.45625  0.28125  0.10625  0.15625]\n",
      "[ 0.4734375  0.2546875  0.1671875  0.1046875]\n",
      "[ 0.45820313  0.27851562  0.16914062  0.09414063]\n",
      "[ 0.45771484  0.27138672  0.18154297  0.08935547]\n",
      "[ 0.45461426  0.27424316  0.1810791   0.09006348]\n",
      "[ 0.45473022  0.2725769   0.18239136  0.09030151]\n",
      "[ 0.45440216  0.27296295  0.18188629  0.0907486 ]\n",
      "[ 0.45452843  0.27267265  0.18195305  0.09084587]\n",
      "[ 0.45451174  0.27275248  0.18182459  0.0909112 ]\n",
      "[ 0.45454385  0.27271202  0.18183239  0.09091175]\n",
      "[ 0.4545419   0.27273002  0.1818141   0.09091397]\n",
      "[ 0.45454647  0.27272448  0.18181854  0.09091051]\n",
      "[ 0.45454537  0.27272787  0.18181687  0.09090989]\n",
      "[ 0.45454578  0.2727269   0.18181815  0.09090916]\n"
     ]
    }
   ],
   "source": [
    "pi = array([0.2,0.3,0.1,0.4])\n",
    "A = array([\n",
    "        [0.5, 0.5, 0.25, 0.5],\n",
    "        [0.5,   0, 0.25,   0],\n",
    "        [  0, 0.5, 0.25,   0],\n",
    "        [  0,   0, 0.25, 0.5]])\n",
    "\n",
    "def page_rank(pi,A,loop=15):\n",
    "    for _ in range(loop):\n",
    "        pi = np.dot(A,pi)\n",
    "        print(pi)\n",
    "page_rank(pi,A)\n"
   ]
  },
  {
   "cell_type": "markdown",
   "metadata": {},
   "source": [
    "#### todo: \n",
    "1. 修改初始值\n",
    "2. 为何收敛"
   ]
  },
  {
   "cell_type": "code",
   "execution_count": null,
   "metadata": {
    "collapsed": true
   },
   "outputs": [],
   "source": []
  }
 ],
 "metadata": {
  "anaconda-cloud": {},
  "kernelspec": {
   "display_name": "Python [Root]",
   "language": "python",
   "name": "Python [Root]"
  },
  "language_info": {
   "codemirror_mode": {
    "name": "ipython",
    "version": 3
   },
   "file_extension": ".py",
   "mimetype": "text/x-python",
   "name": "python",
   "nbconvert_exporter": "python",
   "pygments_lexer": "ipython3",
   "version": "3.5.2"
  },
  "nikola": {
   "category": "sampling",
   "date": "2016-10-23 16:52:57 UTC+08:00",
   "description": "",
   "link": "",
   "slug": "chou-yang-fang-fa-3-mcmc",
   "tags": "ML,math",
   "title": "抽样方法(3)--MCMC",
   "type": "text"
  }
 },
 "nbformat": 4,
 "nbformat_minor": 0
}
