{
 "cells": [
  {
   "cell_type": "markdown",
   "metadata": {},
   "source": [
    "在上篇博客的最后，我们说到由于效率低，[前面](../../categories/cat_sampling/)博客中介绍的方法在对高维分布进行抽样时都存在一些问题，因此我们需要一个高效可行的抽样方法。 这就引出了 MCMC，MCMC 是一系列算法的集合，包括 MH,Gibbs Sampling 和 HMC 等。它们都利用了 MCMC 这个框架来设计具体的算法实现。在介绍这些算法前，我们首先需要知道 MCMC 中的第一个 MC--马尔科夫链的性质。"
   ]
  },
  {
   "cell_type": "markdown",
   "metadata": {
    "collapsed": true
   },
   "source": [
    "想必对于计算机专业的人来说，几乎没人不知道[Page Rank](https://en.wikipedia.org/wiki/PageRank)(PR)算法。而这个算法背后的原理就是马尔科夫链。因此下面我们通过一个例子来看看PR的工作原理，同时也了解一下马尔科夫链的性质。\n",
    "#### 例1:\n",
    "有a,b,c,d 四个网页，其中：a 有到 a,b 的链接， b 有到 a,c 的链接，c 有到 a,b,c,d 的链接，d 有到 a,d 的链接。求 a,b,c,d 四个网页的权重。"
   ]
  },
  {
   "cell_type": "markdown",
   "metadata": {},
   "source": [
    "要求得四个网页的权重，PR 的做法是，先作出a,b,c,d 的链接关系，用矩阵L表示，$L_{ij}$ 表示j有到i的链接，上面的链接关系可以得到链接矩阵：\n",
    "\n",
    "$$\n",
    "    L  = \\begin{bmatrix}\n",
    "    1 & 1 & 1 & 1  \\\\\n",
    "    1 & 0 & 1 & 0  \\\\\n",
    "    0 & 1 & 1 & 0  \\\\\n",
    "    0 & 0 & 1 & 1  \n",
    "\\end{bmatrix}\n",
    "$$\n",
    "\n",
    "矩阵中第一列代表a的链接，第二列代表b的链接，以此类推。得到这个矩阵后，我们按列对这个矩阵进行归一化，表示对每个网页来说，它指向的所有链接重要性相同。归一化后得到：\n",
    "$$\n",
    "    A  = \\begin{bmatrix}\n",
    "    \\frac{1}{2} & \\frac{1}{2} & \\frac{1}{4} & \\frac{1}{2}  \\\\\n",
    "    \\frac{1}{2} & 0   & \\frac{1}{4} & 0  \\\\\n",
    "    0   & \\frac{1}{2} & \\frac{1}{4} & 0  \\\\\n",
    "    0   & 0   & \\frac{1}{4} & \\frac{1}{2}  \n",
    "\\end{bmatrix}\n",
    "$$\n",
    "A 称作转移矩阵，用一个随机向量$\\pi_0$来表示a,b,c,d四个网页的初始概率,在这个例子中我们设$\\pi_0 = [0.1,0.3,0.2,0.4]^T $,PR 通过不断迭代计算$\\pi_{n+1} = A\\cdot\\pi_n$,来得到新的$\\pi_{*}$,在某次迭代后，如果$\\pi_{t+1} =\\pi_{t}$，则算法收敛(实践中通常利用某个收敛准则，比如两次迭代的变化量来判断算法是否收敛)。我们可以用下面的 python 代码来展示这个过程"
   ]
  },
  {
   "cell_type": "code",
   "execution_count": 2,
   "metadata": {
    "ExecuteTime": {
     "end_time": "2017-09-15T04:25:25.670163Z",
     "start_time": "2017-09-15T04:25:25.064353Z"
    }
   },
   "outputs": [
    {
     "name": "stdout",
     "output_type": "stream",
     "text": [
      "Populating the interactive namespace from numpy and matplotlib\n"
     ]
    }
   ],
   "source": [
    "%pylab inline"
   ]
  },
  {
   "cell_type": "code",
   "execution_count": 3,
   "metadata": {
    "ExecuteTime": {
     "end_time": "2017-09-15T04:25:26.384818Z",
     "start_time": "2017-09-15T04:25:26.324224Z"
    },
    "scrolled": true
   },
   "outputs": [
    {
     "name": "stdout",
     "output_type": "stream",
     "text": [
      "[ 0.445  0.145  0.175  0.225]\n",
      "[ 0.47475  0.20625  0.11625  0.15625]\n",
      "[ 0.4413125  0.2127375  0.1321875  0.1071875]\n",
      "[ 0.41077437  0.20798812  0.13941562  0.08664062]\n",
      "[ 0.38778253  0.19968384  0.13884797  0.07817422]\n",
      "[ 0.36924991  0.19098352  0.13455391  0.0737991 ]\n",
      "[ 0.35282422  0.18261016  0.12913024  0.07053803]\n",
      "[ 0.3374858   0.17465186  0.12358764  0.06755157]\n",
      "[ 0.32288744  0.16707302  0.11822284  0.0646727 ]\n",
      "[ 0.30892454  0.15983655  0.11309222  0.06189206]\n",
      "[ 0.29555998  0.15291773  0.10819133  0.05921908]\n",
      "[ 0.28277008  0.14629937  0.10350669  0.05665737]\n",
      "[ 0.27053222  0.13996757  0.09902636  0.05420536]\n",
      "[ 0.25882356  0.13390977  0.09474038  0.05185927]\n",
      "[ 0.24762155  0.12811412  0.09063998  0.04961473]\n"
     ]
    }
   ],
   "source": [
    "pi = array([0.2,0.3,0.1,0.4])\n",
    "A = array([\n",
    "        [0.5, 0.3, 0.55, 0.5],\n",
    "        [0.3,   0.2, 0.25,   0],\n",
    "        [  0, 0.5, 0.25,   0],\n",
    "        [  0,   0, 0.25, 0.5]])\n",
    "\n",
    "def page_rank(pi,A,loop=15):\n",
    "    for _ in range(loop):\n",
    "        pi = np.dot(A,pi)\n",
    "        print(pi)\n",
    "page_rank(pi,A)\n"
   ]
  },
  {
   "cell_type": "code",
   "execution_count": 4,
   "metadata": {
    "ExecuteTime": {
     "end_time": "2017-09-15T04:25:30.213080Z",
     "start_time": "2017-09-15T04:25:30.171181Z"
    }
   },
   "outputs": [
    {
     "data": {
      "text/plain": [
       "(array([ 0.95671953+0.j        , -0.07443033+0.j        ,\n",
       "         0.28385540+0.15732118j,  0.28385540-0.15732118j]),\n",
       " array([[ 0.83280893+0.j        ,  0.18566008+0.j        ,\n",
       "         -0.56998387+0.07184752j, -0.56998387-0.07184752j],\n",
       "        [ 0.43087766+0.j        ,  0.50241583+0.j        ,\n",
       "          0.03940555+0.18311196j,  0.03940555-0.18311196j],\n",
       "        [ 0.30484347+0.j        , -0.77430466+0.j        ,\n",
       "          0.58196855+0.j        ,  0.58196855-0.j        ],\n",
       "        [ 0.16686579+0.j        ,  0.33698807+0.j        ,\n",
       "         -0.44001714-0.32026716j, -0.44001714+0.32026716j]]))"
      ]
     },
     "execution_count": 4,
     "metadata": {},
     "output_type": "execute_result"
    }
   ],
   "source": [
    "np.linalg.eig(A)"
   ]
  },
  {
   "cell_type": "code",
   "execution_count": 10,
   "metadata": {
    "ExecuteTime": {
     "end_time": "2017-03-10T17:30:18.577331",
     "start_time": "2017-03-10T17:30:18.571945"
    }
   },
   "outputs": [
    {
     "data": {
      "text/plain": [
       "(array([ 0.19782196, -0.75      , -0.94782196, -0.75      ]),\n",
       " array([[  5.25143420e-01,   8.16496581e-01,   2.39911904e-01,\n",
       "           2.00332824e-01],\n",
       "        [  5.25143420e-01,  -4.08248290e-01,   2.39911904e-01,\n",
       "          -7.85658986e-01],\n",
       "        [  4.15539607e-01,  -3.82061741e-16,  -9.09575085e-01,\n",
       "          -4.11638314e-16],\n",
       "        [  5.25143420e-01,  -4.08248290e-01,   2.39911904e-01,\n",
       "           5.85326163e-01]]))"
      ]
     },
     "execution_count": 10,
     "metadata": {},
     "output_type": "execute_result"
    }
   ],
   "source": [
    "np.linalg.eig(A.T.dot(A)-np.eye(A.shape[0]))"
   ]
  },
  {
   "cell_type": "markdown",
   "metadata": {},
   "source": [
    "#### todo: \n",
    "1. 修改初始值\n",
    "2. 为何收敛"
   ]
  },
  {
   "cell_type": "code",
   "execution_count": null,
   "metadata": {
    "collapsed": true
   },
   "outputs": [],
   "source": []
  }
 ],
 "metadata": {
  "anaconda-cloud": {},
  "kernelspec": {
   "display_name": "Python 3",
   "language": "python",
   "name": "python3"
  },
  "language_info": {
   "codemirror_mode": {
    "name": "ipython",
    "version": 3
   },
   "file_extension": ".py",
   "mimetype": "text/x-python",
   "name": "python",
   "nbconvert_exporter": "python",
   "pygments_lexer": "ipython3",
   "version": "3.6.0"
  },
  "nikola": {
   "category": "sampling",
   "date": "2016-10-23 16:52:57 UTC+08:00",
   "description": "",
   "link": "",
   "slug": "chou-yang-fang-fa-3-mcmc",
   "tags": "ML,math",
   "title": "抽样方法(3)--MCMC",
   "type": "text"
  }
 },
 "nbformat": 4,
 "nbformat_minor": 1
}
