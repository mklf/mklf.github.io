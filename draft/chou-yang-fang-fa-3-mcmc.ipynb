{
 "cells": [
  {
   "cell_type": "markdown",
   "metadata": {},
   "source": [
    "在上篇博客的最后，我们说到由于效率低，[前面](../../categories/cat_sampling/)博客中介绍的方法在对高维分布进行抽样时都存在一些问题，因此我们需要一个高效可行的抽样方法。 这就引出了 MCMC，MCMC 是一系列算法的集合，包括 MH,Gibbs Sampling 和 HMC 等。它们都利用了 MCMC 这个框架来设计具体的算法实现。在介绍这些算法前，我们首先需要知道 MCMC 中的第一个 MC--马尔科夫链的性质。"
   ]
  },
  {
   "cell_type": "markdown",
   "metadata": {
    "collapsed": true
   },
   "source": [
    "想必对于计算机专业的人来说，几乎没人不知道[Page Rank](https://en.wikipedia.org/wiki/PageRank)(PR)算法。而这个算法背后的原理就是马尔科夫链。因此下面我们通过一个例子来看看PR的工作原理，同时也了解一下马尔科夫链的性质。\n",
    "#### 例1:\n",
    "有a,b,c,d 四个网页，其中：a 有到 a,b 的链接， b 有到 a,c 的链接，c 有到 a,b,c,d 的链接，d 有到 a,d 的链接。求 a,b,c,d 四个网页的权重。"
   ]
  },
  {
   "cell_type": "markdown",
   "metadata": {},
   "source": [
    "要求得四个网页的权重，PR 的做法是，先作出a,b,c,d 的链接关系，用矩阵L表示，$L_{ij}$ 表示j有到i的链接，上面的链接关系可以得到链接矩阵：\n",
    "\n",
    "$$\n",
    "    L  = \\begin{bmatrix}\n",
    "    1 & 1 & 1 & 1  \\\\\n",
    "    1 & 0 & 1 & 0  \\\\\n",
    "    0 & 1 & 1 & 0  \\\\\n",
    "    0 & 0 & 1 & 1  \n",
    "\\end{bmatrix}\n",
    "$$\n",
    "\n",
    "矩阵中第一列代表a的链接，第二列代表b的链接，以此类推。得到这个矩阵后，我们按列对这个矩阵进行归一化，表示对每个网页来说，它指向的所有链接重要性相同。归一化后得到：\n",
    "$$\n",
    "    A  = \\begin{bmatrix}\n",
    "    \\frac{1}{2} & \\frac{1}{2} & \\frac{1}{4} & \\frac{1}{2}  \\\\\n",
    "    \\frac{1}{2} & 0   & \\frac{1}{4} & 0  \\\\\n",
    "    0   & \\frac{1}{2} & \\frac{1}{4} & 0  \\\\\n",
    "    0   & 0   & \\frac{1}{4} & \\frac{1}{2}  \n",
    "\\end{bmatrix}\n",
    "$$\n",
    "A 称作转移矩阵，用一个随机向量$\\pi_0$来表示a,b,c,d四个网页的初始概率,在这个例子中我们设$\\pi_0 = [0.1,0.3,0.2,0.4]^T $,PR 通过不断迭代计算$\\pi_{n+1} = A\\cdot\\pi_n$,来得到新的$\\pi_{*}$,在某次迭代后，如果$\\pi_{t+1} =\\pi_{t}$，则算法收敛(实践中通常利用某个收敛准则，比如两次迭代的变化量来判断算法是否收敛)。我们可以用下面的 python 代码来展示这个过程"
   ]
  },
  {
   "cell_type": "code",
   "execution_count": 2,
   "metadata": {
    "ExecuteTime": {
     "end_time": "2017-09-15T04:25:25.670163Z",
     "start_time": "2017-09-15T04:25:25.064353Z"
    }
   },
   "outputs": [
    {
     "name": "stdout",
     "output_type": "stream",
     "text": [
      "Populating the interactive namespace from numpy and matplotlib\n"
     ]
    }
   ],
   "source": [
    "%pylab inline"
   ]
  },
  {
   "cell_type": "code",
   "execution_count": 23,
   "metadata": {
    "ExecuteTime": {
     "end_time": "2017-09-15T04:49:47.283387Z",
     "start_time": "2017-09-15T04:49:47.267605Z"
    },
    "scrolled": true
   },
   "outputs": [
    {
     "name": "stdout",
     "output_type": "stream",
     "text": [
      "[ 0.3    0.225  0.26   0.215]\n",
      "[ 0.2395   0.22375  0.31975  0.217  ]\n",
      "[ 0.2338     0.2268375  0.3314     0.2079625]\n",
      "[ 0.23113625  0.22696813  0.33508563  0.20681   ]\n",
      "[ 0.23055025  0.22709478  0.33599563  0.20635934]\n",
      "[ 0.23038178  0.22711775  0.33624522  0.20625524]\n",
      "[ 0.2303383   0.22712502  0.33631076  0.20622592]\n",
      "[ 0.23032661  0.22712683  0.33632826  0.20621829]\n",
      "[ 0.23032352  0.22712733  0.33633291  0.20621625]\n",
      "[ 0.23032269  0.22712746  0.33633414  0.20621571]\n",
      "[ 0.23032247  0.22712749  0.33633447  0.20621556]\n",
      "[ 0.23032241  0.2271275   0.33633456  0.20621552]\n",
      "[ 0.2303224   0.2271275   0.33633458  0.20621551]\n",
      "[ 0.23032239  0.2271275   0.33633459  0.20621551]\n",
      "[ 0.23032239  0.22712751  0.33633459  0.20621551]\n"
     ]
    }
   ],
   "source": [
    "pi = array([0.2,0.3,0.1,0.4])\n",
    "A = array([\n",
    "        [0.20, 0.3, 0.10, 0.40],\n",
    "        [0.20, 0.2, 0.25, 0.25],\n",
    "        [0.30, 0.3, 0.50, 0.15],\n",
    "        [0.30, 0.2, 0.15, 0.20]])\n",
    "\n",
    "def page_rank(pi,A,loop=15):\n",
    "    for _ in range(loop):\n",
    "        pi = np.dot(A,pi)\n",
    "        print(pi)\n",
    "page_rank(pi,A)\n"
   ]
  },
  {
   "cell_type": "code",
   "execution_count": 24,
   "metadata": {
    "ExecuteTime": {
     "end_time": "2017-09-15T04:49:47.973123Z",
     "start_time": "2017-09-15T04:49:47.968463Z"
    }
   },
   "outputs": [
    {
     "data": {
      "text/plain": [
       "(array([ 1.        ,  0.26583124, -0.1       , -0.06583124]),\n",
       " array([[-0.45145539, -0.51928346, -0.48666426, -0.22199452],\n",
       "        [-0.44519309,  0.08220901, -0.48666426, -0.70112805],\n",
       "        [-0.65925012,  0.77892519,  0.32444284,  0.33299179],\n",
       "        [-0.40420344, -0.34185074,  0.64888568,  0.59013079]]))"
      ]
     },
     "execution_count": 24,
     "metadata": {},
     "output_type": "execute_result"
    }
   ],
   "source": [
    "np.linalg.eig(A)"
   ]
  },
  {
   "cell_type": "markdown",
   "metadata": {},
   "source": [
    "#### todo: \n",
    "1. 修改初始值\n",
    "2. 为何收敛"
   ]
  },
  {
   "cell_type": "code",
   "execution_count": null,
   "metadata": {
    "collapsed": true
   },
   "outputs": [],
   "source": []
  }
 ],
 "metadata": {
  "anaconda-cloud": {},
  "kernelspec": {
   "display_name": "Python 3",
   "language": "python",
   "name": "python3"
  },
  "language_info": {
   "codemirror_mode": {
    "name": "ipython",
    "version": 3
   },
   "file_extension": ".py",
   "mimetype": "text/x-python",
   "name": "python",
   "nbconvert_exporter": "python",
   "pygments_lexer": "ipython3",
   "version": "3.6.0"
  },
  "nikola": {
   "category": "sampling",
   "date": "2016-10-23 16:52:57 UTC+08:00",
   "description": "",
   "link": "",
   "slug": "chou-yang-fang-fa-3-mcmc",
   "tags": "ML,math",
   "title": "抽样方法(3)--MCMC",
   "type": "text"
  }
 },
 "nbformat": 4,
 "nbformat_minor": 1
}
